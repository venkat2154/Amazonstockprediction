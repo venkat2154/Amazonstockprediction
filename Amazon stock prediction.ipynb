{
 "cells": [
  {
   "cell_type": "markdown",
   "id": "0f82d88f",
   "metadata": {},
   "source": [
    "# DATA SCIENCE INTERN @BHARAT INTERN"
   ]
  },
  {
   "cell_type": "markdown",
   "id": "39234aff",
   "metadata": {},
   "source": [
    "# NAME : MASINA VENKATA HANUMA SIVA MANIKANTA "
   ]
  },
  {
   "cell_type": "markdown",
   "id": "857e3fe5",
   "metadata": {},
   "source": [
    "# TASK 1 : STOCK PREDICTION"
   ]
  },
  {
   "cell_type": "markdown",
   "id": "5be98310",
   "metadata": {},
   "source": [
    "# PURPOSE : TO PREDICT THE STOCK PRICE OF A COMPANY USING LSTM."
   ]
  },
  {
   "cell_type": "markdown",
   "id": "2d4b527e",
   "metadata": {},
   "source": [
    "# ABOUT DATASET"
   ]
  },
  {
   "cell_type": "markdown",
   "id": "9f6bef3e",
   "metadata": {},
   "source": [
    "# Amazon Stock Prediction"
   ]
  },
  {
   "cell_type": "markdown",
   "id": "9472011b",
   "metadata": {},
   "source": [
    "This dataset contains historical data of Amazon's stock prices and related attributes. It consists of 7 columns and a smaller subset of 6156 rows. Each column represents a specific attribute, and each row contains the corresponding values for that attribute.\n",
    "\n",
    "The columns in the dataset are as follows:\n",
    "\n",
    "Symbol: The name of the company, which is amzn in this case.\n",
    "Date: The year and date of the stock data.\n",
    "Close: The closing price of amazon's stock on a particular day.\n",
    "High: The highest value reached by Amazon's stock on the given day.\n",
    "Low: The lowest value reached by Amazon's stock on the given day.\n",
    "Open: The opening value of Amazon's stock on the given day.\n",
    "Volume: The trading volume of Amazon's stock on the given day, i.e., the number of shares traded.\n",
    "adjClose: The adjusted closing price of Google's stock, considering factors such as dividends and stock splits.\n"
   ]
  },
  {
   "cell_type": "markdown",
   "id": "76d96a6d",
   "metadata": {},
   "source": [
    "# STEPS INVOLVED :"
   ]
  },
  {
   "cell_type": "markdown",
   "id": "b88bae32",
   "metadata": {},
   "source": [
    "# 1 . IMPORTING LIBRARIES AND DATA TO BE USED\n"
   ]
  },
  {
   "cell_type": "markdown",
   "id": "f452d870",
   "metadata": {},
   "source": [
    "# 2. GATHERING INSIGHTS"
   ]
  },
  {
   "cell_type": "markdown",
   "id": "d2bd8d29",
   "metadata": {},
   "source": [
    "# 3. DATA PRE-PROCESSING"
   ]
  },
  {
   "cell_type": "markdown",
   "id": "867ee8b8",
   "metadata": {},
   "source": [
    "# 4. CREATING LSTM MODEL"
   ]
  },
  {
   "cell_type": "markdown",
   "id": "997599c8",
   "metadata": {},
   "source": [
    "# 5. VISUALIZING ACTUAL VS PREDICTED DATA"
   ]
  },
  {
   "cell_type": "markdown",
   "id": "3cfb5630",
   "metadata": {},
   "source": [
    "# 6. PREDICTING UPCOMING 15 DAYS"
   ]
  },
  {
   "cell_type": "code",
   "execution_count": 11,
   "id": "f53b3ef1",
   "metadata": {},
   "outputs": [
    {
     "name": "stdout",
     "output_type": "stream",
     "text": [
      "Requirement already satisfied: numpy in c:\\users\\shaik\\anaconda3\\lib\\site-packages (1.24.4)\n"
     ]
    }
   ],
   "source": [
    "!pip install numpy"
   ]
  },
  {
   "cell_type": "code",
   "execution_count": 13,
   "id": "dfab2d45",
   "metadata": {},
   "outputs": [],
   "source": [
    "import numpy as np"
   ]
  },
  {
   "cell_type": "code",
   "execution_count": 14,
   "id": "d00b63a4",
   "metadata": {},
   "outputs": [
    {
     "name": "stdout",
     "output_type": "stream",
     "text": [
      "Requirement already satisfied: pandas in c:\\users\\shaik\\anaconda3\\lib\\site-packages (1.2.4)\n",
      "Requirement already satisfied: numpy>=1.16.5 in c:\\users\\shaik\\anaconda3\\lib\\site-packages (from pandas) (1.24.4)\n",
      "Requirement already satisfied: python-dateutil>=2.7.3 in c:\\users\\shaik\\anaconda3\\lib\\site-packages (from pandas) (2.8.1)\n",
      "Requirement already satisfied: pytz>=2017.3 in c:\\users\\shaik\\anaconda3\\lib\\site-packages (from pandas) (2021.1)\n",
      "Requirement already satisfied: six>=1.5 in c:\\users\\shaik\\anaconda3\\lib\\site-packages (from python-dateutil>=2.7.3->pandas) (1.15.0)\n"
     ]
    }
   ],
   "source": [
    "!pip install pandas"
   ]
  },
  {
   "cell_type": "code",
   "execution_count": 15,
   "id": "f28ac495",
   "metadata": {},
   "outputs": [
    {
     "name": "stderr",
     "output_type": "stream",
     "text": [
      "ERROR: Could not find a version that satisfies the requirement matplotlib.pyplot\n",
      "ERROR: No matching distribution found for matplotlib.pyplot\n"
     ]
    }
   ],
   "source": [
    "!pip install matplotlib.pyplot"
   ]
  },
  {
   "cell_type": "code",
   "execution_count": 16,
   "id": "735c7888",
   "metadata": {},
   "outputs": [],
   "source": [
    "import matplotlib as plot"
   ]
  },
  {
   "cell_type": "code",
   "execution_count": 18,
   "id": "ba3e10f6",
   "metadata": {},
   "outputs": [
    {
     "name": "stdout",
     "output_type": "stream",
     "text": [
      "Requirement already satisfied: seaborn in c:\\users\\shaik\\anaconda3\\lib\\site-packages (0.11.1)\n",
      "Requirement already satisfied: numpy>=1.15 in c:\\users\\shaik\\anaconda3\\lib\\site-packages (from seaborn) (1.22.4)\n",
      "Requirement already satisfied: scipy>=1.0 in c:\\users\\shaik\\anaconda3\\lib\\site-packages (from seaborn) (1.6.2)\n",
      "Requirement already satisfied: pandas>=0.23 in c:\\users\\shaik\\anaconda3\\lib\\site-packages (from seaborn) (1.2.4)\n",
      "Requirement already satisfied: matplotlib>=2.2 in c:\\users\\shaik\\anaconda3\\lib\\site-packages (from seaborn) (3.3.4)\n",
      "Requirement already satisfied: python-dateutil>=2.1 in c:\\users\\shaik\\anaconda3\\lib\\site-packages (from matplotlib>=2.2->seaborn) (2.8.1)\n",
      "Requirement already satisfied: pillow>=6.2.0 in c:\\users\\shaik\\anaconda3\\lib\\site-packages (from matplotlib>=2.2->seaborn) (8.2.0)\n",
      "Requirement already satisfied: cycler>=0.10 in c:\\users\\shaik\\anaconda3\\lib\\site-packages (from matplotlib>=2.2->seaborn) (0.10.0)\n",
      "Requirement already satisfied: kiwisolver>=1.0.1 in c:\\users\\shaik\\anaconda3\\lib\\site-packages (from matplotlib>=2.2->seaborn) (1.3.1)\n",
      "Requirement already satisfied: pyparsing!=2.0.4,!=2.1.2,!=2.1.6,>=2.0.3 in c:\\users\\shaik\\anaconda3\\lib\\site-packages (from matplotlib>=2.2->seaborn) (2.4.7)\n",
      "Requirement already satisfied: six in c:\\users\\shaik\\anaconda3\\lib\\site-packages (from cycler>=0.10->matplotlib>=2.2->seaborn) (1.15.0)\n",
      "Requirement already satisfied: pytz>=2017.3 in c:\\users\\shaik\\anaconda3\\lib\\site-packages (from pandas>=0.23->seaborn) (2021.1)\n"
     ]
    }
   ],
   "source": [
    "!pip install seaborn"
   ]
  },
  {
   "cell_type": "code",
   "execution_count": 19,
   "id": "7e6489f2",
   "metadata": {},
   "outputs": [],
   "source": [
    "import seaborn as sns"
   ]
  },
  {
   "cell_type": "code",
   "execution_count": 21,
   "id": "789305c9",
   "metadata": {},
   "outputs": [],
   "source": [
    "warnings.filterwarnings('ignore') # ignore warnings "
   ]
  },
  {
   "cell_type": "code",
   "execution_count": 26,
   "id": "89a89b8e",
   "metadata": {},
   "outputs": [
    {
     "name": "stdout",
     "output_type": "stream",
     "text": [
      "Requirement already satisfied: keras in c:\\users\\shaik\\anaconda3\\lib\\site-packages (2.13.1)\n"
     ]
    }
   ],
   "source": [
    "!pip install keras"
   ]
  },
  {
   "cell_type": "code",
   "execution_count": 27,
   "id": "19535464",
   "metadata": {},
   "outputs": [
    {
     "name": "stdout",
     "output_type": "stream",
     "text": [
      "Requirement already satisfied: tensorflow in c:\\users\\shaik\\anaconda3\\lib\\site-packages (2.13.0)\n",
      "Requirement already satisfied: tensorflow-intel==2.13.0 in c:\\users\\shaik\\anaconda3\\lib\\site-packages (from tensorflow) (2.13.0)\n",
      "Requirement already satisfied: typing-extensions<4.6.0,>=3.6.6 in c:\\users\\shaik\\anaconda3\\lib\\site-packages (from tensorflow-intel==2.13.0->tensorflow) (3.7.4.3)\n",
      "Requirement already satisfied: gast<=0.4.0,>=0.2.1 in c:\\users\\shaik\\anaconda3\\lib\\site-packages (from tensorflow-intel==2.13.0->tensorflow) (0.4.0)\n",
      "Requirement already satisfied: protobuf!=4.21.0,!=4.21.1,!=4.21.2,!=4.21.3,!=4.21.4,!=4.21.5,<5.0.0dev,>=3.20.3 in c:\\users\\shaik\\anaconda3\\lib\\site-packages (from tensorflow-intel==2.13.0->tensorflow) (4.24.3)\n",
      "Requirement already satisfied: packaging in c:\\users\\shaik\\anaconda3\\lib\\site-packages (from tensorflow-intel==2.13.0->tensorflow) (20.9)\n",
      "Requirement already satisfied: absl-py>=1.0.0 in c:\\users\\shaik\\anaconda3\\lib\\site-packages (from tensorflow-intel==2.13.0->tensorflow) (1.4.0)\n",
      "Requirement already satisfied: tensorboard<2.14,>=2.13 in c:\\users\\shaik\\anaconda3\\lib\\site-packages (from tensorflow-intel==2.13.0->tensorflow) (2.13.0)\n",
      "Requirement already satisfied: astunparse>=1.6.0 in c:\\users\\shaik\\anaconda3\\lib\\site-packages (from tensorflow-intel==2.13.0->tensorflow) (1.6.3)\n",
      "Requirement already satisfied: six>=1.12.0 in c:\\users\\shaik\\anaconda3\\lib\\site-packages (from tensorflow-intel==2.13.0->tensorflow) (1.15.0)\n",
      "Requirement already satisfied: keras<2.14,>=2.13.1 in c:\\users\\shaik\\anaconda3\\lib\\site-packages (from tensorflow-intel==2.13.0->tensorflow) (2.13.1)\n",
      "Requirement already satisfied: termcolor>=1.1.0 in c:\\users\\shaik\\anaconda3\\lib\\site-packages (from tensorflow-intel==2.13.0->tensorflow) (2.3.0)\n",
      "Requirement already satisfied: h5py>=2.9.0 in c:\\users\\shaik\\anaconda3\\lib\\site-packages (from tensorflow-intel==2.13.0->tensorflow) (2.10.0)\n",
      "Requirement already satisfied: numpy<=1.24.3,>=1.22 in c:\\users\\shaik\\anaconda3\\lib\\site-packages (from tensorflow-intel==2.13.0->tensorflow) (1.22.4)\n",
      "Requirement already satisfied: google-pasta>=0.1.1 in c:\\users\\shaik\\anaconda3\\lib\\site-packages (from tensorflow-intel==2.13.0->tensorflow) (0.2.0)\n",
      "Requirement already satisfied: wrapt>=1.11.0 in c:\\users\\shaik\\anaconda3\\lib\\site-packages (from tensorflow-intel==2.13.0->tensorflow) (1.12.1)\n",
      "Requirement already satisfied: tensorflow-estimator<2.14,>=2.13.0 in c:\\users\\shaik\\anaconda3\\lib\\site-packages (from tensorflow-intel==2.13.0->tensorflow) (2.13.0)\n",
      "Requirement already satisfied: grpcio<2.0,>=1.24.3 in c:\\users\\shaik\\anaconda3\\lib\\site-packages (from tensorflow-intel==2.13.0->tensorflow) (1.58.0)\n",
      "Requirement already satisfied: setuptools in c:\\users\\shaik\\anaconda3\\lib\\site-packages (from tensorflow-intel==2.13.0->tensorflow) (52.0.0.post20210125)\n",
      "Requirement already satisfied: flatbuffers>=23.1.21 in c:\\users\\shaik\\anaconda3\\lib\\site-packages (from tensorflow-intel==2.13.0->tensorflow) (23.5.26)\n",
      "Requirement already satisfied: tensorflow-io-gcs-filesystem>=0.23.1 in c:\\users\\shaik\\anaconda3\\lib\\site-packages (from tensorflow-intel==2.13.0->tensorflow) (0.31.0)\n",
      "Requirement already satisfied: opt-einsum>=2.3.2 in c:\\users\\shaik\\anaconda3\\lib\\site-packages (from tensorflow-intel==2.13.0->tensorflow) (3.3.0)\n",
      "Requirement already satisfied: libclang>=13.0.0 in c:\\users\\shaik\\anaconda3\\lib\\site-packages (from tensorflow-intel==2.13.0->tensorflow) (16.0.6)\n",
      "Requirement already satisfied: wheel<1.0,>=0.23.0 in c:\\users\\shaik\\anaconda3\\lib\\site-packages (from astunparse>=1.6.0->tensorflow-intel==2.13.0->tensorflow) (0.36.2)\n",
      "Requirement already satisfied: markdown>=2.6.8 in c:\\users\\shaik\\anaconda3\\lib\\site-packages (from tensorboard<2.14,>=2.13->tensorflow-intel==2.13.0->tensorflow) (3.4.4)\n",
      "Requirement already satisfied: google-auth-oauthlib<1.1,>=0.5 in c:\\users\\shaik\\anaconda3\\lib\\site-packages (from tensorboard<2.14,>=2.13->tensorflow-intel==2.13.0->tensorflow) (1.0.0)\n",
      "Requirement already satisfied: tensorboard-data-server<0.8.0,>=0.7.0 in c:\\users\\shaik\\anaconda3\\lib\\site-packages (from tensorboard<2.14,>=2.13->tensorflow-intel==2.13.0->tensorflow) (0.7.1)\n",
      "Requirement already satisfied: werkzeug>=1.0.1 in c:\\users\\shaik\\anaconda3\\lib\\site-packages (from tensorboard<2.14,>=2.13->tensorflow-intel==2.13.0->tensorflow) (1.0.1)\n",
      "Requirement already satisfied: requests<3,>=2.21.0 in c:\\users\\shaik\\anaconda3\\lib\\site-packages (from tensorboard<2.14,>=2.13->tensorflow-intel==2.13.0->tensorflow) (2.25.1)\n",
      "Requirement already satisfied: google-auth<3,>=1.6.3 in c:\\users\\shaik\\anaconda3\\lib\\site-packages (from tensorboard<2.14,>=2.13->tensorflow-intel==2.13.0->tensorflow) (2.22.0)\n",
      "Requirement already satisfied: urllib3<2.0 in c:\\users\\shaik\\anaconda3\\lib\\site-packages (from google-auth<3,>=1.6.3->tensorboard<2.14,>=2.13->tensorflow-intel==2.13.0->tensorflow) (1.26.4)\n",
      "Requirement already satisfied: cachetools<6.0,>=2.0.0 in c:\\users\\shaik\\anaconda3\\lib\\site-packages (from google-auth<3,>=1.6.3->tensorboard<2.14,>=2.13->tensorflow-intel==2.13.0->tensorflow) (5.3.1)\n",
      "Requirement already satisfied: rsa<5,>=3.1.4 in c:\\users\\shaik\\anaconda3\\lib\\site-packages (from google-auth<3,>=1.6.3->tensorboard<2.14,>=2.13->tensorflow-intel==2.13.0->tensorflow) (4.9)\n",
      "Requirement already satisfied: pyasn1-modules>=0.2.1 in c:\\users\\shaik\\anaconda3\\lib\\site-packages (from google-auth<3,>=1.6.3->tensorboard<2.14,>=2.13->tensorflow-intel==2.13.0->tensorflow) (0.3.0)\n",
      "Requirement already satisfied: requests-oauthlib>=0.7.0 in c:\\users\\shaik\\anaconda3\\lib\\site-packages (from google-auth-oauthlib<1.1,>=0.5->tensorboard<2.14,>=2.13->tensorflow-intel==2.13.0->tensorflow) (1.3.1)\n",
      "Requirement already satisfied: importlib-metadata>=4.4 in c:\\users\\shaik\\anaconda3\\lib\\site-packages (from markdown>=2.6.8->tensorboard<2.14,>=2.13->tensorflow-intel==2.13.0->tensorflow) (6.8.0)\n",
      "Requirement already satisfied: zipp>=0.5 in c:\\users\\shaik\\anaconda3\\lib\\site-packages (from importlib-metadata>=4.4->markdown>=2.6.8->tensorboard<2.14,>=2.13->tensorflow-intel==2.13.0->tensorflow) (3.4.1)\n",
      "Requirement already satisfied: pyasn1<0.6.0,>=0.4.6 in c:\\users\\shaik\\anaconda3\\lib\\site-packages (from pyasn1-modules>=0.2.1->google-auth<3,>=1.6.3->tensorboard<2.14,>=2.13->tensorflow-intel==2.13.0->tensorflow) (0.5.0)\n",
      "Requirement already satisfied: chardet<5,>=3.0.2 in c:\\users\\shaik\\anaconda3\\lib\\site-packages (from requests<3,>=2.21.0->tensorboard<2.14,>=2.13->tensorflow-intel==2.13.0->tensorflow) (4.0.0)\n",
      "Requirement already satisfied: idna<3,>=2.5 in c:\\users\\shaik\\anaconda3\\lib\\site-packages (from requests<3,>=2.21.0->tensorboard<2.14,>=2.13->tensorflow-intel==2.13.0->tensorflow) (2.10)\n",
      "Requirement already satisfied: certifi>=2017.4.17 in c:\\users\\shaik\\anaconda3\\lib\\site-packages (from requests<3,>=2.21.0->tensorboard<2.14,>=2.13->tensorflow-intel==2.13.0->tensorflow) (2020.12.5)\n",
      "Requirement already satisfied: oauthlib>=3.0.0 in c:\\users\\shaik\\anaconda3\\lib\\site-packages (from requests-oauthlib>=0.7.0->google-auth-oauthlib<1.1,>=0.5->tensorboard<2.14,>=2.13->tensorflow-intel==2.13.0->tensorflow) (3.2.2)\n",
      "Requirement already satisfied: pyparsing>=2.0.2 in c:\\users\\shaik\\anaconda3\\lib\\site-packages (from packaging->tensorflow-intel==2.13.0->tensorflow) (2.4.7)\n"
     ]
    }
   ],
   "source": [
    "!pip install tensorflow"
   ]
  },
  {
   "cell_type": "code",
   "execution_count": 28,
   "id": "f2ea0f7c",
   "metadata": {},
   "outputs": [
    {
     "name": "stdout",
     "output_type": "stream",
     "text": [
      "Requirement already satisfied: numpy in c:\\users\\shaik\\anaconda3\\lib\\site-packages (1.22.4)\n",
      "Requirement already satisfied: pandas in c:\\users\\shaik\\anaconda3\\lib\\site-packages (1.2.4)\n",
      "Requirement already satisfied: matplotlib in c:\\users\\shaik\\anaconda3\\lib\\site-packages (3.3.4)\n",
      "Requirement already satisfied: seaborn in c:\\users\\shaik\\anaconda3\\lib\\site-packages (0.11.1)\n",
      "Requirement already satisfied: scikit-learn in c:\\users\\shaik\\anaconda3\\lib\\site-packages (0.24.1)\n",
      "Requirement already satisfied: keras in c:\\users\\shaik\\anaconda3\\lib\\site-packages (2.13.1)\n",
      "Requirement already satisfied: python-dateutil>=2.1 in c:\\users\\shaik\\anaconda3\\lib\\site-packages (from matplotlib) (2.8.1)\n",
      "Requirement already satisfied: cycler>=0.10 in c:\\users\\shaik\\anaconda3\\lib\\site-packages (from matplotlib) (0.10.0)\n",
      "Requirement already satisfied: pillow>=6.2.0 in c:\\users\\shaik\\anaconda3\\lib\\site-packages (from matplotlib) (8.2.0)\n",
      "Requirement already satisfied: pyparsing!=2.0.4,!=2.1.2,!=2.1.6,>=2.0.3 in c:\\users\\shaik\\anaconda3\\lib\\site-packages (from matplotlib) (2.4.7)\n",
      "Requirement already satisfied: kiwisolver>=1.0.1 in c:\\users\\shaik\\anaconda3\\lib\\site-packages (from matplotlib) (1.3.1)\n",
      "Requirement already satisfied: six in c:\\users\\shaik\\anaconda3\\lib\\site-packages (from cycler>=0.10->matplotlib) (1.15.0)\n",
      "Requirement already satisfied: pytz>=2017.3 in c:\\users\\shaik\\anaconda3\\lib\\site-packages (from pandas) (2021.1)\n",
      "Requirement already satisfied: threadpoolctl>=2.0.0 in c:\\users\\shaik\\anaconda3\\lib\\site-packages (from scikit-learn) (2.1.0)\n",
      "Requirement already satisfied: scipy>=0.19.1 in c:\\users\\shaik\\anaconda3\\lib\\site-packages (from scikit-learn) (1.6.2)\n",
      "Requirement already satisfied: joblib>=0.11 in c:\\users\\shaik\\anaconda3\\lib\\site-packages (from scikit-learn) (1.0.1)\n",
      "Note: you may need to restart the kernel to use updated packages.\n"
     ]
    }
   ],
   "source": [
    "pip install numpy pandas matplotlib seaborn scikit-learn keras"
   ]
  },
  {
   "cell_type": "code",
   "execution_count": 13,
   "id": "7a313c7b",
   "metadata": {},
   "outputs": [],
   "source": [
    "import numpy as np # for linear algebra\n",
    "import pandas as pd # data preprocessing\n",
    "import matplotlib.pyplot as plt # data visualization library\n",
    "import seaborn as sns # data visualization library\n",
    "%matplotlib inline\n",
    "import warnings\n",
    "warnings.filterwarnings('ignore') # ignore warnings \n",
    "\n",
    "from sklearn.preprocessing import MinMaxScaler # for normalization\n",
    "from keras.models import Sequential\n",
    "from keras.layers import Dense, Dropout, LSTM, Bidirectional"
   ]
  },
  {
   "cell_type": "code",
   "execution_count": 79,
   "id": "bba01827",
   "metadata": {},
   "outputs": [
    {
     "data": {
      "text/html": [
       "<div>\n",
       "<style scoped>\n",
       "    .dataframe tbody tr th:only-of-type {\n",
       "        vertical-align: middle;\n",
       "    }\n",
       "\n",
       "    .dataframe tbody tr th {\n",
       "        vertical-align: top;\n",
       "    }\n",
       "\n",
       "    .dataframe thead th {\n",
       "        text-align: right;\n",
       "    }\n",
       "</style>\n",
       "<table border=\"1\" class=\"dataframe\">\n",
       "  <thead>\n",
       "    <tr style=\"text-align: right;\">\n",
       "      <th></th>\n",
       "      <th>Date</th>\n",
       "      <th>Open</th>\n",
       "      <th>High</th>\n",
       "      <th>Low</th>\n",
       "      <th>Close</th>\n",
       "      <th>Adj Close</th>\n",
       "      <th>Volume</th>\n",
       "    </tr>\n",
       "  </thead>\n",
       "  <tbody>\n",
       "    <tr>\n",
       "      <th>0</th>\n",
       "      <td>1997-05-15</td>\n",
       "      <td>2.437500</td>\n",
       "      <td>2.500000</td>\n",
       "      <td>1.927083</td>\n",
       "      <td>1.958333</td>\n",
       "      <td>1.958333</td>\n",
       "      <td>72156000</td>\n",
       "    </tr>\n",
       "    <tr>\n",
       "      <th>1</th>\n",
       "      <td>1997-05-16</td>\n",
       "      <td>1.968750</td>\n",
       "      <td>1.979167</td>\n",
       "      <td>1.708333</td>\n",
       "      <td>1.729167</td>\n",
       "      <td>1.729167</td>\n",
       "      <td>14700000</td>\n",
       "    </tr>\n",
       "    <tr>\n",
       "      <th>2</th>\n",
       "      <td>1997-05-19</td>\n",
       "      <td>1.760417</td>\n",
       "      <td>1.770833</td>\n",
       "      <td>1.625000</td>\n",
       "      <td>1.708333</td>\n",
       "      <td>1.708333</td>\n",
       "      <td>6106800</td>\n",
       "    </tr>\n",
       "    <tr>\n",
       "      <th>3</th>\n",
       "      <td>1997-05-20</td>\n",
       "      <td>1.729167</td>\n",
       "      <td>1.750000</td>\n",
       "      <td>1.635417</td>\n",
       "      <td>1.635417</td>\n",
       "      <td>1.635417</td>\n",
       "      <td>5467200</td>\n",
       "    </tr>\n",
       "    <tr>\n",
       "      <th>4</th>\n",
       "      <td>1997-05-21</td>\n",
       "      <td>1.635417</td>\n",
       "      <td>1.645833</td>\n",
       "      <td>1.375000</td>\n",
       "      <td>1.427083</td>\n",
       "      <td>1.427083</td>\n",
       "      <td>18853200</td>\n",
       "    </tr>\n",
       "    <tr>\n",
       "      <th>...</th>\n",
       "      <td>...</td>\n",
       "      <td>...</td>\n",
       "      <td>...</td>\n",
       "      <td>...</td>\n",
       "      <td>...</td>\n",
       "      <td>...</td>\n",
       "      <td>...</td>\n",
       "    </tr>\n",
       "    <tr>\n",
       "      <th>95</th>\n",
       "      <td>1997-09-30</td>\n",
       "      <td>4.000000</td>\n",
       "      <td>4.348958</td>\n",
       "      <td>3.802083</td>\n",
       "      <td>4.338542</td>\n",
       "      <td>4.338542</td>\n",
       "      <td>5254800</td>\n",
       "    </tr>\n",
       "    <tr>\n",
       "      <th>96</th>\n",
       "      <td>1997-10-01</td>\n",
       "      <td>4.437500</td>\n",
       "      <td>4.500000</td>\n",
       "      <td>3.937500</td>\n",
       "      <td>4.020833</td>\n",
       "      <td>4.020833</td>\n",
       "      <td>4999200</td>\n",
       "    </tr>\n",
       "    <tr>\n",
       "      <th>97</th>\n",
       "      <td>1997-10-02</td>\n",
       "      <td>4.041667</td>\n",
       "      <td>4.177083</td>\n",
       "      <td>3.989583</td>\n",
       "      <td>4.010417</td>\n",
       "      <td>4.010417</td>\n",
       "      <td>1876800</td>\n",
       "    </tr>\n",
       "    <tr>\n",
       "      <th>98</th>\n",
       "      <td>1997-10-03</td>\n",
       "      <td>4.083333</td>\n",
       "      <td>4.125000</td>\n",
       "      <td>3.979167</td>\n",
       "      <td>4.015625</td>\n",
       "      <td>4.015625</td>\n",
       "      <td>1164000</td>\n",
       "    </tr>\n",
       "    <tr>\n",
       "      <th>99</th>\n",
       "      <td>1997-10-06</td>\n",
       "      <td>4.000000</td>\n",
       "      <td>4.125000</td>\n",
       "      <td>3.942708</td>\n",
       "      <td>4.125000</td>\n",
       "      <td>4.125000</td>\n",
       "      <td>2028000</td>\n",
       "    </tr>\n",
       "  </tbody>\n",
       "</table>\n",
       "<p>100 rows × 7 columns</p>\n",
       "</div>"
      ],
      "text/plain": [
       "          Date      Open      High       Low     Close  Adj Close    Volume\n",
       "0   1997-05-15  2.437500  2.500000  1.927083  1.958333   1.958333  72156000\n",
       "1   1997-05-16  1.968750  1.979167  1.708333  1.729167   1.729167  14700000\n",
       "2   1997-05-19  1.760417  1.770833  1.625000  1.708333   1.708333   6106800\n",
       "3   1997-05-20  1.729167  1.750000  1.635417  1.635417   1.635417   5467200\n",
       "4   1997-05-21  1.635417  1.645833  1.375000  1.427083   1.427083  18853200\n",
       "..         ...       ...       ...       ...       ...        ...       ...\n",
       "95  1997-09-30  4.000000  4.348958  3.802083  4.338542   4.338542   5254800\n",
       "96  1997-10-01  4.437500  4.500000  3.937500  4.020833   4.020833   4999200\n",
       "97  1997-10-02  4.041667  4.177083  3.989583  4.010417   4.010417   1876800\n",
       "98  1997-10-03  4.083333  4.125000  3.979167  4.015625   4.015625   1164000\n",
       "99  1997-10-06  4.000000  4.125000  3.942708  4.125000   4.125000   2028000\n",
       "\n",
       "[100 rows x 7 columns]"
      ]
     },
     "execution_count": 79,
     "metadata": {},
     "output_type": "execute_result"
    }
   ],
   "source": [
    "df = pd.read_csv('amazon.csv') # data_importing\n",
    "df.head(100)# fetching first 10 rows of dataset"
   ]
  },
  {
   "cell_type": "code",
   "execution_count": 80,
   "id": "7a5b2a9d",
   "metadata": {},
   "outputs": [
    {
     "name": "stdout",
     "output_type": "stream",
     "text": [
      "Shape of data: (6155, 7)\n"
     ]
    }
   ],
   "source": [
    "# shape of data\n",
    "print(\"Shape of data:\",df.shape)"
   ]
  },
  {
   "cell_type": "code",
   "execution_count": 81,
   "id": "94cda150",
   "metadata": {},
   "outputs": [
    {
     "data": {
      "text/html": [
       "<div>\n",
       "<style scoped>\n",
       "    .dataframe tbody tr th:only-of-type {\n",
       "        vertical-align: middle;\n",
       "    }\n",
       "\n",
       "    .dataframe tbody tr th {\n",
       "        vertical-align: top;\n",
       "    }\n",
       "\n",
       "    .dataframe thead th {\n",
       "        text-align: right;\n",
       "    }\n",
       "</style>\n",
       "<table border=\"1\" class=\"dataframe\">\n",
       "  <thead>\n",
       "    <tr style=\"text-align: right;\">\n",
       "      <th></th>\n",
       "      <th>Open</th>\n",
       "      <th>High</th>\n",
       "      <th>Low</th>\n",
       "      <th>Close</th>\n",
       "      <th>Adj Close</th>\n",
       "      <th>Volume</th>\n",
       "    </tr>\n",
       "  </thead>\n",
       "  <tbody>\n",
       "    <tr>\n",
       "      <th>count</th>\n",
       "      <td>6155.000000</td>\n",
       "      <td>6155.000000</td>\n",
       "      <td>6155.000000</td>\n",
       "      <td>6155.000000</td>\n",
       "      <td>6155.000000</td>\n",
       "      <td>6.155000e+03</td>\n",
       "    </tr>\n",
       "    <tr>\n",
       "      <th>mean</th>\n",
       "      <td>520.556302</td>\n",
       "      <td>526.216132</td>\n",
       "      <td>514.277282</td>\n",
       "      <td>520.429832</td>\n",
       "      <td>520.429832</td>\n",
       "      <td>7.329010e+06</td>\n",
       "    </tr>\n",
       "    <tr>\n",
       "      <th>std</th>\n",
       "      <td>857.161696</td>\n",
       "      <td>865.821041</td>\n",
       "      <td>847.270905</td>\n",
       "      <td>856.668492</td>\n",
       "      <td>856.668492</td>\n",
       "      <td>7.149521e+06</td>\n",
       "    </tr>\n",
       "    <tr>\n",
       "      <th>min</th>\n",
       "      <td>1.406250</td>\n",
       "      <td>1.447917</td>\n",
       "      <td>1.312500</td>\n",
       "      <td>1.395833</td>\n",
       "      <td>1.395833</td>\n",
       "      <td>4.872000e+05</td>\n",
       "    </tr>\n",
       "    <tr>\n",
       "      <th>25%</th>\n",
       "      <td>38.750000</td>\n",
       "      <td>39.514999</td>\n",
       "      <td>38.104999</td>\n",
       "      <td>38.821251</td>\n",
       "      <td>38.821251</td>\n",
       "      <td>3.579350e+06</td>\n",
       "    </tr>\n",
       "    <tr>\n",
       "      <th>50%</th>\n",
       "      <td>92.669998</td>\n",
       "      <td>94.190002</td>\n",
       "      <td>90.750000</td>\n",
       "      <td>92.639999</td>\n",
       "      <td>92.639999</td>\n",
       "      <td>5.470000e+06</td>\n",
       "    </tr>\n",
       "    <tr>\n",
       "      <th>75%</th>\n",
       "      <td>528.949982</td>\n",
       "      <td>535.304993</td>\n",
       "      <td>521.950012</td>\n",
       "      <td>529.450012</td>\n",
       "      <td>529.450012</td>\n",
       "      <td>8.294950e+06</td>\n",
       "    </tr>\n",
       "    <tr>\n",
       "      <th>max</th>\n",
       "      <td>3744.000000</td>\n",
       "      <td>3773.080078</td>\n",
       "      <td>3696.790039</td>\n",
       "      <td>3731.409912</td>\n",
       "      <td>3731.409912</td>\n",
       "      <td>1.043292e+08</td>\n",
       "    </tr>\n",
       "  </tbody>\n",
       "</table>\n",
       "</div>"
      ],
      "text/plain": [
       "              Open         High          Low        Close    Adj Close  \\\n",
       "count  6155.000000  6155.000000  6155.000000  6155.000000  6155.000000   \n",
       "mean    520.556302   526.216132   514.277282   520.429832   520.429832   \n",
       "std     857.161696   865.821041   847.270905   856.668492   856.668492   \n",
       "min       1.406250     1.447917     1.312500     1.395833     1.395833   \n",
       "25%      38.750000    39.514999    38.104999    38.821251    38.821251   \n",
       "50%      92.669998    94.190002    90.750000    92.639999    92.639999   \n",
       "75%     528.949982   535.304993   521.950012   529.450012   529.450012   \n",
       "max    3744.000000  3773.080078  3696.790039  3731.409912  3731.409912   \n",
       "\n",
       "             Volume  \n",
       "count  6.155000e+03  \n",
       "mean   7.329010e+06  \n",
       "std    7.149521e+06  \n",
       "min    4.872000e+05  \n",
       "25%    3.579350e+06  \n",
       "50%    5.470000e+06  \n",
       "75%    8.294950e+06  \n",
       "max    1.043292e+08  "
      ]
     },
     "execution_count": 81,
     "metadata": {},
     "output_type": "execute_result"
    }
   ],
   "source": [
    "# statistical description of data\n",
    "df.describe()"
   ]
  },
  {
   "cell_type": "code",
   "execution_count": 82,
   "id": "0749254b",
   "metadata": {},
   "outputs": [
    {
     "name": "stdout",
     "output_type": "stream",
     "text": [
      "<class 'pandas.core.frame.DataFrame'>\n",
      "RangeIndex: 6155 entries, 0 to 6154\n",
      "Data columns (total 7 columns):\n",
      " #   Column     Non-Null Count  Dtype  \n",
      "---  ------     --------------  -----  \n",
      " 0   Date       6155 non-null   object \n",
      " 1   Open       6155 non-null   float64\n",
      " 2   High       6155 non-null   float64\n",
      " 3   Low        6155 non-null   float64\n",
      " 4   Close      6155 non-null   float64\n",
      " 5   Adj Close  6155 non-null   float64\n",
      " 6   Volume     6155 non-null   int64  \n",
      "dtypes: float64(5), int64(1), object(1)\n",
      "memory usage: 336.7+ KB\n"
     ]
    }
   ],
   "source": [
    "# summary of data\n",
    "df.info()"
   ]
  },
  {
   "cell_type": "code",
   "execution_count": 83,
   "id": "38cf598c",
   "metadata": {},
   "outputs": [
    {
     "data": {
      "text/plain": [
       "Date         0\n",
       "Open         0\n",
       "High         0\n",
       "Low          0\n",
       "Close        0\n",
       "Adj Close    0\n",
       "Volume       0\n",
       "dtype: int64"
      ]
     },
     "execution_count": 83,
     "metadata": {},
     "output_type": "execute_result"
    }
   ],
   "source": [
    "# checking null values\n",
    "df.isnull().sum()"
   ]
  },
  {
   "cell_type": "code",
   "execution_count": 84,
   "id": "ffc45664",
   "metadata": {},
   "outputs": [
    {
     "name": "stdout",
     "output_type": "stream",
     "text": [
      "Index(['Date', 'Open', 'High', 'Low', 'Close', 'Adj Close', 'Volume'], dtype='object')\n"
     ]
    }
   ],
   "source": [
    "print(df.columns)\n"
   ]
  },
  {
   "cell_type": "code",
   "execution_count": 85,
   "id": "1d35dd21",
   "metadata": {},
   "outputs": [],
   "source": [
    "df = df[['Date','Open','Close']]"
   ]
  },
  {
   "cell_type": "code",
   "execution_count": 86,
   "id": "3f7dd398",
   "metadata": {},
   "outputs": [],
   "source": [
    "df['Date'] = pd.to_datetime(df['Date']).apply(lambda x: x.date())"
   ]
  },
  {
   "cell_type": "code",
   "execution_count": 87,
   "id": "f9a90e7a",
   "metadata": {},
   "outputs": [],
   "source": [
    "df.set_index('Date', drop=True, inplace=True)\n"
   ]
  },
  {
   "cell_type": "code",
   "execution_count": 88,
   "id": "f82eef06",
   "metadata": {},
   "outputs": [
    {
     "data": {
      "text/html": [
       "<div>\n",
       "<style scoped>\n",
       "    .dataframe tbody tr th:only-of-type {\n",
       "        vertical-align: middle;\n",
       "    }\n",
       "\n",
       "    .dataframe tbody tr th {\n",
       "        vertical-align: top;\n",
       "    }\n",
       "\n",
       "    .dataframe thead th {\n",
       "        text-align: right;\n",
       "    }\n",
       "</style>\n",
       "<table border=\"1\" class=\"dataframe\">\n",
       "  <thead>\n",
       "    <tr style=\"text-align: right;\">\n",
       "      <th></th>\n",
       "      <th>Open</th>\n",
       "      <th>Close</th>\n",
       "    </tr>\n",
       "    <tr>\n",
       "      <th>Date</th>\n",
       "      <th></th>\n",
       "      <th></th>\n",
       "    </tr>\n",
       "  </thead>\n",
       "  <tbody>\n",
       "    <tr>\n",
       "      <th>1997-05-15</th>\n",
       "      <td>2.437500</td>\n",
       "      <td>1.958333</td>\n",
       "    </tr>\n",
       "    <tr>\n",
       "      <th>1997-05-16</th>\n",
       "      <td>1.968750</td>\n",
       "      <td>1.729167</td>\n",
       "    </tr>\n",
       "    <tr>\n",
       "      <th>1997-05-19</th>\n",
       "      <td>1.760417</td>\n",
       "      <td>1.708333</td>\n",
       "    </tr>\n",
       "    <tr>\n",
       "      <th>1997-05-20</th>\n",
       "      <td>1.729167</td>\n",
       "      <td>1.635417</td>\n",
       "    </tr>\n",
       "    <tr>\n",
       "      <th>1997-05-21</th>\n",
       "      <td>1.635417</td>\n",
       "      <td>1.427083</td>\n",
       "    </tr>\n",
       "    <tr>\n",
       "      <th>1997-05-22</th>\n",
       "      <td>1.437500</td>\n",
       "      <td>1.395833</td>\n",
       "    </tr>\n",
       "    <tr>\n",
       "      <th>1997-05-23</th>\n",
       "      <td>1.406250</td>\n",
       "      <td>1.500000</td>\n",
       "    </tr>\n",
       "    <tr>\n",
       "      <th>1997-05-27</th>\n",
       "      <td>1.510417</td>\n",
       "      <td>1.583333</td>\n",
       "    </tr>\n",
       "    <tr>\n",
       "      <th>1997-05-28</th>\n",
       "      <td>1.625000</td>\n",
       "      <td>1.531250</td>\n",
       "    </tr>\n",
       "    <tr>\n",
       "      <th>1997-05-29</th>\n",
       "      <td>1.541667</td>\n",
       "      <td>1.505208</td>\n",
       "    </tr>\n",
       "  </tbody>\n",
       "</table>\n",
       "</div>"
      ],
      "text/plain": [
       "                Open     Close\n",
       "Date                          \n",
       "1997-05-15  2.437500  1.958333\n",
       "1997-05-16  1.968750  1.729167\n",
       "1997-05-19  1.760417  1.708333\n",
       "1997-05-20  1.729167  1.635417\n",
       "1997-05-21  1.635417  1.427083\n",
       "1997-05-22  1.437500  1.395833\n",
       "1997-05-23  1.406250  1.500000\n",
       "1997-05-27  1.510417  1.583333\n",
       "1997-05-28  1.625000  1.531250\n",
       "1997-05-29  1.541667  1.505208"
      ]
     },
     "execution_count": 88,
     "metadata": {},
     "output_type": "execute_result"
    }
   ],
   "source": [
    "df.head(10)"
   ]
  },
  {
   "cell_type": "code",
   "execution_count": 89,
   "id": "c7e91bd5",
   "metadata": {},
   "outputs": [
    {
     "data": {
      "image/png": "[encoded data removed]",
      "text/plain": [
       "<Figure size 1440x504 with 2 Axes>"
      ]
     },
     "metadata": {
      "needs_background": "light"
     },
     "output_type": "display_data"
    }
   ],
   "source": [
    "# plotting open and closing price on date index\n",
    "fig, ax =plt.subplots(1,2,figsize=(20,7))\n",
    "ax[0].plot(df['Open'],label='Open',color='blue')\n",
    "ax[0].set_xlabel('Date',size=15)\n",
    "ax[0].set_ylabel('Price',size=15)\n",
    "ax[0].legend()\n",
    "\n",
    "ax[1].plot(df['Close'],label='Close',color='green')\n",
    "ax[1].set_xlabel('Date',size=15)\n",
    "ax[1].set_ylabel('Price',size=15)\n",
    "ax[1].legend()\n",
    "\n",
    "fig.show()"
   ]
  },
  {
   "cell_type": "code",
   "execution_count": 91,
   "id": "7eafb57f",
   "metadata": {},
   "outputs": [
    {
     "data": {
      "text/html": [
       "<div>\n",
       "<style scoped>\n",
       "    .dataframe tbody tr th:only-of-type {\n",
       "        vertical-align: middle;\n",
       "    }\n",
       "\n",
       "    .dataframe tbody tr th {\n",
       "        vertical-align: top;\n",
       "    }\n",
       "\n",
       "    .dataframe thead th {\n",
       "        text-align: right;\n",
       "    }\n",
       "</style>\n",
       "<table border=\"1\" class=\"dataframe\">\n",
       "  <thead>\n",
       "    <tr style=\"text-align: right;\">\n",
       "      <th></th>\n",
       "      <th>Open</th>\n",
       "      <th>Close</th>\n",
       "    </tr>\n",
       "    <tr>\n",
       "      <th>Date</th>\n",
       "      <th></th>\n",
       "      <th></th>\n",
       "    </tr>\n",
       "  </thead>\n",
       "  <tbody>\n",
       "    <tr>\n",
       "      <th>1997-05-15</th>\n",
       "      <td>0.000276</td>\n",
       "      <td>0.000151</td>\n",
       "    </tr>\n",
       "    <tr>\n",
       "      <th>1997-05-16</th>\n",
       "      <td>0.000150</td>\n",
       "      <td>0.000089</td>\n",
       "    </tr>\n",
       "    <tr>\n",
       "      <th>1997-05-19</th>\n",
       "      <td>0.000095</td>\n",
       "      <td>0.000084</td>\n",
       "    </tr>\n",
       "    <tr>\n",
       "      <th>1997-05-20</th>\n",
       "      <td>0.000086</td>\n",
       "      <td>0.000064</td>\n",
       "    </tr>\n",
       "    <tr>\n",
       "      <th>1997-05-21</th>\n",
       "      <td>0.000061</td>\n",
       "      <td>0.000008</td>\n",
       "    </tr>\n",
       "    <tr>\n",
       "      <th>1997-05-22</th>\n",
       "      <td>0.000008</td>\n",
       "      <td>0.000000</td>\n",
       "    </tr>\n",
       "    <tr>\n",
       "      <th>1997-05-23</th>\n",
       "      <td>0.000000</td>\n",
       "      <td>0.000028</td>\n",
       "    </tr>\n",
       "    <tr>\n",
       "      <th>1997-05-27</th>\n",
       "      <td>0.000028</td>\n",
       "      <td>0.000050</td>\n",
       "    </tr>\n",
       "    <tr>\n",
       "      <th>1997-05-28</th>\n",
       "      <td>0.000058</td>\n",
       "      <td>0.000036</td>\n",
       "    </tr>\n",
       "    <tr>\n",
       "      <th>1997-05-29</th>\n",
       "      <td>0.000036</td>\n",
       "      <td>0.000029</td>\n",
       "    </tr>\n",
       "  </tbody>\n",
       "</table>\n",
       "</div>"
      ],
      "text/plain": [
       "                Open     Close\n",
       "Date                          \n",
       "1997-05-15  0.000276  0.000151\n",
       "1997-05-16  0.000150  0.000089\n",
       "1997-05-19  0.000095  0.000084\n",
       "1997-05-20  0.000086  0.000064\n",
       "1997-05-21  0.000061  0.000008\n",
       "1997-05-22  0.000008  0.000000\n",
       "1997-05-23  0.000000  0.000028\n",
       "1997-05-27  0.000028  0.000050\n",
       "1997-05-28  0.000058  0.000036\n",
       "1997-05-29  0.000036  0.000029"
      ]
     },
     "execution_count": 91,
     "metadata": {},
     "output_type": "execute_result"
    }
   ],
   "source": [
    "# normalizing all the values of all columns using MinMaxScaler\n",
    "MMS = MinMaxScaler()\n",
    "df[df.columns] = MMS.fit_transform(df)\n",
    "df.head(10)"
   ]
  },
  {
   "cell_type": "code",
   "execution_count": 92,
   "id": "95f643de",
   "metadata": {},
   "outputs": [
    {
     "data": {
      "text/plain": [
       "4616"
      ]
     },
     "execution_count": 92,
     "metadata": {},
     "output_type": "execute_result"
    }
   ],
   "source": [
    "# splitting the data into training and test set\n",
    "training_size = round(len(df) * 0.75) # Selecting 75 % for training and 25 % for testing\n",
    "training_size"
   ]
  },
  {
   "cell_type": "code",
   "execution_count": 93,
   "id": "8cd087c1",
   "metadata": {},
   "outputs": [
    {
     "data": {
      "text/plain": [
       "((4616, 2), (1539, 2))"
      ]
     },
     "execution_count": 93,
     "metadata": {},
     "output_type": "execute_result"
    }
   ],
   "source": [
    "train_data = df[:training_size]\n",
    "test_data  = df[training_size:]\n",
    "\n",
    "train_data.shape, test_data.shape"
   ]
  },
  {
   "cell_type": "code",
   "execution_count": 94,
   "id": "7922b87b",
   "metadata": {},
   "outputs": [],
   "source": [
    "# Function to create sequence of data for training and testing\n",
    "\n",
    "def create_sequence(dataset):\n",
    "  sequences = []\n",
    "  labels = []\n",
    "\n",
    "  start_idx = 0\n",
    "\n",
    "  for stop_idx in range(50,len(dataset)): # Selecting 50 rows at a time\n",
    "    sequences.append(dataset.iloc[start_idx:stop_idx])\n",
    "    labels.append(dataset.iloc[stop_idx])\n",
    "    start_idx += 1\n",
    "  return (np.array(sequences),np.array(labels))"
   ]
  },
  {
   "cell_type": "code",
   "execution_count": 95,
   "id": "6d4f4c6b",
   "metadata": {},
   "outputs": [
    {
     "data": {
      "text/plain": [
       "((4566, 50, 2), (4566, 2), (1489, 50, 2), (1489, 2))"
      ]
     },
     "execution_count": 95,
     "metadata": {},
     "output_type": "execute_result"
    }
   ],
   "source": [
    "train_seq, train_label = create_sequence(train_data) \n",
    "test_seq, test_label = create_sequence(test_data)\n",
    "train_seq.shape, train_label.shape, test_seq.shape, test_label.shape"
   ]
  },
  {
   "cell_type": "code",
   "execution_count": 96,
   "id": "993f4e14",
   "metadata": {},
   "outputs": [
    {
     "name": "stdout",
     "output_type": "stream",
     "text": [
      "Model: \"sequential\"\n",
      "_________________________________________________________________\n",
      " Layer (type)                Output Shape              Param #   \n",
      "=================================================================\n",
      " lstm (LSTM)                 (None, 50, 50)            10600     \n",
      "                                                                 \n",
      " dropout (Dropout)           (None, 50, 50)            0         \n",
      "                                                                 \n",
      " lstm_1 (LSTM)               (None, 50)                20200     \n",
      "                                                                 \n",
      " dense (Dense)               (None, 2)                 102       \n",
      "                                                                 \n",
      "=================================================================\n",
      "Total params: 30902 (120.71 KB)\n",
      "Trainable params: 30902 (120.71 KB)\n",
      "Non-trainable params: 0 (0.00 Byte)\n",
      "_________________________________________________________________\n"
     ]
    }
   ],
   "source": [
    "# imported Sequential from keras.models \n",
    "model = Sequential()\n",
    "# importing Dense, Dropout, LSTM, Bidirectional from keras.layers \n",
    "model.add(LSTM(units=50, return_sequences=True, input_shape = (train_seq.shape[1], train_seq.shape[2])))\n",
    "\n",
    "model.add(Dropout(0.1)) \n",
    "model.add(LSTM(units=50))\n",
    "\n",
    "model.add(Dense(2))\n",
    "\n",
    "model.compile(loss='mean_squared_error', optimizer='adam', metrics=['mean_absolute_error'])\n",
    "\n",
    "model.summary()"
   ]
  },
  {
   "cell_type": "code",
   "execution_count": 97,
   "id": "6faa3daf",
   "metadata": {},
   "outputs": [
    {
     "name": "stdout",
     "output_type": "stream",
     "text": [
      "Epoch 1/100\n",
      "143/143 [==============================] - 16s 68ms/step - loss: 5.0035e-05 - mean_absolute_error: 0.0033 - val_loss: 0.0018 - val_mean_absolute_error: 0.0262\n",
      "Epoch 2/100\n",
      "143/143 [==============================] - 8s 53ms/step - loss: 7.1052e-06 - mean_absolute_error: 0.0018 - val_loss: 0.0014 - val_mean_absolute_error: 0.0236\n",
      "Epoch 3/100\n",
      "143/143 [==============================] - 8s 53ms/step - loss: 5.8220e-06 - mean_absolute_error: 0.0016 - val_loss: 0.0012 - val_mean_absolute_error: 0.0214\n",
      "Epoch 4/100\n",
      "143/143 [==============================] - 8s 53ms/step - loss: 6.0897e-06 - mean_absolute_error: 0.0017 - val_loss: 0.0018 - val_mean_absolute_error: 0.0269\n",
      "Epoch 5/100\n",
      "143/143 [==============================] - 8s 54ms/step - loss: 5.6166e-06 - mean_absolute_error: 0.0016 - val_loss: 0.0017 - val_mean_absolute_error: 0.0266\n",
      "Epoch 6/100\n",
      "143/143 [==============================] - 8s 59ms/step - loss: 5.9408e-06 - mean_absolute_error: 0.0016 - val_loss: 0.0012 - val_mean_absolute_error: 0.0217\n",
      "Epoch 7/100\n",
      "143/143 [==============================] - 11s 75ms/step - loss: 5.2529e-06 - mean_absolute_error: 0.0016 - val_loss: 0.0015 - val_mean_absolute_error: 0.0256\n",
      "Epoch 8/100\n",
      "143/143 [==============================] - 8s 59ms/step - loss: 4.6365e-06 - mean_absolute_error: 0.0014 - val_loss: 6.9788e-04 - val_mean_absolute_error: 0.0169\n",
      "Epoch 9/100\n",
      "143/143 [==============================] - 8s 56ms/step - loss: 4.9212e-06 - mean_absolute_error: 0.0015 - val_loss: 8.6652e-04 - val_mean_absolute_error: 0.0189\n",
      "Epoch 10/100\n",
      "143/143 [==============================] - 8s 56ms/step - loss: 5.0816e-06 - mean_absolute_error: 0.0015 - val_loss: 0.0019 - val_mean_absolute_error: 0.0319\n",
      "Epoch 11/100\n",
      "143/143 [==============================] - 8s 55ms/step - loss: 4.6866e-06 - mean_absolute_error: 0.0015 - val_loss: 5.9704e-04 - val_mean_absolute_error: 0.0156\n",
      "Epoch 12/100\n",
      "143/143 [==============================] - 8s 54ms/step - loss: 3.8569e-06 - mean_absolute_error: 0.0013 - val_loss: 0.0010 - val_mean_absolute_error: 0.0215\n",
      "Epoch 13/100\n",
      "143/143 [==============================] - 8s 56ms/step - loss: 4.3208e-06 - mean_absolute_error: 0.0014 - val_loss: 9.1473e-04 - val_mean_absolute_error: 0.0202\n",
      "Epoch 14/100\n",
      "143/143 [==============================] - 8s 55ms/step - loss: 3.8669e-06 - mean_absolute_error: 0.0013 - val_loss: 8.0337e-04 - val_mean_absolute_error: 0.0184\n",
      "Epoch 15/100\n",
      "143/143 [==============================] - 8s 57ms/step - loss: 3.6485e-06 - mean_absolute_error: 0.0013 - val_loss: 0.0013 - val_mean_absolute_error: 0.0268\n",
      "Epoch 16/100\n",
      "143/143 [==============================] - 8s 55ms/step - loss: 3.6279e-06 - mean_absolute_error: 0.0013 - val_loss: 0.0013 - val_mean_absolute_error: 0.0259\n",
      "Epoch 17/100\n",
      "143/143 [==============================] - 8s 56ms/step - loss: 3.5505e-06 - mean_absolute_error: 0.0013 - val_loss: 9.3514e-04 - val_mean_absolute_error: 0.0202\n",
      "Epoch 18/100\n",
      "143/143 [==============================] - 8s 55ms/step - loss: 3.5461e-06 - mean_absolute_error: 0.0013 - val_loss: 0.0016 - val_mean_absolute_error: 0.0287\n",
      "Epoch 19/100\n",
      "143/143 [==============================] - 8s 58ms/step - loss: 3.8402e-06 - mean_absolute_error: 0.0013 - val_loss: 0.0011 - val_mean_absolute_error: 0.0226\n",
      "Epoch 20/100\n",
      "143/143 [==============================] - 8s 55ms/step - loss: 3.3577e-06 - mean_absolute_error: 0.0012 - val_loss: 4.6550e-04 - val_mean_absolute_error: 0.0135\n",
      "Epoch 21/100\n",
      "143/143 [==============================] - 8s 54ms/step - loss: 3.5062e-06 - mean_absolute_error: 0.0013 - val_loss: 3.8782e-04 - val_mean_absolute_error: 0.0124\n",
      "Epoch 22/100\n",
      "143/143 [==============================] - 8s 54ms/step - loss: 3.6377e-06 - mean_absolute_error: 0.0013 - val_loss: 4.4232e-04 - val_mean_absolute_error: 0.0131\n",
      "Epoch 23/100\n",
      "143/143 [==============================] - 8s 57ms/step - loss: 4.1209e-06 - mean_absolute_error: 0.0015 - val_loss: 8.2310e-04 - val_mean_absolute_error: 0.0190\n",
      "Epoch 24/100\n",
      "143/143 [==============================] - 8s 55ms/step - loss: 3.5485e-06 - mean_absolute_error: 0.0013 - val_loss: 8.8356e-04 - val_mean_absolute_error: 0.0194\n",
      "Epoch 25/100\n",
      "143/143 [==============================] - 8s 55ms/step - loss: 3.0177e-06 - mean_absolute_error: 0.0012 - val_loss: 7.2647e-04 - val_mean_absolute_error: 0.0170\n",
      "Epoch 26/100\n",
      "143/143 [==============================] - 8s 55ms/step - loss: 3.4232e-06 - mean_absolute_error: 0.0013 - val_loss: 5.6499e-04 - val_mean_absolute_error: 0.0150\n",
      "Epoch 27/100\n",
      "143/143 [==============================] - 8s 57ms/step - loss: 3.0760e-06 - mean_absolute_error: 0.0012 - val_loss: 0.0012 - val_mean_absolute_error: 0.0244\n",
      "Epoch 28/100\n",
      "143/143 [==============================] - 8s 55ms/step - loss: 3.3638e-06 - mean_absolute_error: 0.0013 - val_loss: 6.8865e-04 - val_mean_absolute_error: 0.0170\n",
      "Epoch 29/100\n",
      "143/143 [==============================] - 8s 55ms/step - loss: 3.2171e-06 - mean_absolute_error: 0.0012 - val_loss: 0.0012 - val_mean_absolute_error: 0.0262\n",
      "Epoch 30/100\n",
      "143/143 [==============================] - 8s 55ms/step - loss: 2.8284e-06 - mean_absolute_error: 0.0012 - val_loss: 3.8654e-04 - val_mean_absolute_error: 0.0122\n",
      "Epoch 31/100\n",
      "143/143 [==============================] - 8s 55ms/step - loss: 3.1642e-06 - mean_absolute_error: 0.0012 - val_loss: 8.7883e-04 - val_mean_absolute_error: 0.0200\n",
      "Epoch 32/100\n",
      "143/143 [==============================] - 8s 55ms/step - loss: 2.9163e-06 - mean_absolute_error: 0.0012 - val_loss: 7.8028e-04 - val_mean_absolute_error: 0.0176\n",
      "Epoch 33/100\n",
      "143/143 [==============================] - 8s 57ms/step - loss: 3.0163e-06 - mean_absolute_error: 0.0012 - val_loss: 5.0004e-04 - val_mean_absolute_error: 0.0140\n",
      "Epoch 34/100\n",
      "143/143 [==============================] - 8s 58ms/step - loss: 2.6918e-06 - mean_absolute_error: 0.0011 - val_loss: 0.0015 - val_mean_absolute_error: 0.0261\n",
      "Epoch 35/100\n",
      "143/143 [==============================] - 8s 55ms/step - loss: 2.5837e-06 - mean_absolute_error: 0.0011 - val_loss: 6.1059e-04 - val_mean_absolute_error: 0.0152\n",
      "Epoch 36/100\n",
      "143/143 [==============================] - 8s 58ms/step - loss: 3.1897e-06 - mean_absolute_error: 0.0012 - val_loss: 4.9761e-04 - val_mean_absolute_error: 0.0138\n",
      "Epoch 37/100\n",
      "143/143 [==============================] - 8s 58ms/step - loss: 2.7444e-06 - mean_absolute_error: 0.0012 - val_loss: 0.0010 - val_mean_absolute_error: 0.0195\n",
      "Epoch 38/100\n",
      "143/143 [==============================] - 8s 58ms/step - loss: 2.4243e-06 - mean_absolute_error: 0.0010 - val_loss: 9.8007e-04 - val_mean_absolute_error: 0.0191\n",
      "Epoch 39/100\n",
      "143/143 [==============================] - 8s 59ms/step - loss: 3.0728e-06 - mean_absolute_error: 0.0012 - val_loss: 0.0011 - val_mean_absolute_error: 0.0215\n",
      "Epoch 40/100\n",
      "143/143 [==============================] - 8s 57ms/step - loss: 2.6434e-06 - mean_absolute_error: 0.0011 - val_loss: 8.0433e-04 - val_mean_absolute_error: 0.0171\n",
      "Epoch 41/100\n",
      "143/143 [==============================] - 8s 59ms/step - loss: 2.8686e-06 - mean_absolute_error: 0.0012 - val_loss: 9.7363e-04 - val_mean_absolute_error: 0.0201\n",
      "Epoch 42/100\n",
      "143/143 [==============================] - 8s 59ms/step - loss: 2.6864e-06 - mean_absolute_error: 0.0011 - val_loss: 0.0016 - val_mean_absolute_error: 0.0261\n",
      "Epoch 43/100\n",
      "143/143 [==============================] - 8s 59ms/step - loss: 2.4564e-06 - mean_absolute_error: 0.0010 - val_loss: 0.0019 - val_mean_absolute_error: 0.0277\n",
      "Epoch 44/100\n",
      "143/143 [==============================] - 8s 56ms/step - loss: 2.4573e-06 - mean_absolute_error: 0.0010 - val_loss: 0.0012 - val_mean_absolute_error: 0.0227\n",
      "Epoch 45/100\n",
      "143/143 [==============================] - 8s 57ms/step - loss: 3.2023e-06 - mean_absolute_error: 0.0012 - val_loss: 0.0011 - val_mean_absolute_error: 0.0217\n",
      "Epoch 46/100\n",
      "143/143 [==============================] - 8s 57ms/step - loss: 2.9904e-06 - mean_absolute_error: 0.0012 - val_loss: 0.0021 - val_mean_absolute_error: 0.0306\n",
      "Epoch 47/100\n",
      "143/143 [==============================] - 8s 58ms/step - loss: 2.4532e-06 - mean_absolute_error: 0.0011 - val_loss: 0.0021 - val_mean_absolute_error: 0.0280\n",
      "Epoch 48/100\n",
      "143/143 [==============================] - 7s 50ms/step - loss: 2.3296e-06 - mean_absolute_error: 0.0010 - val_loss: 0.0016 - val_mean_absolute_error: 0.0284\n",
      "Epoch 49/100\n",
      "143/143 [==============================] - 8s 53ms/step - loss: 2.3119e-06 - mean_absolute_error: 0.0010 - val_loss: 0.0024 - val_mean_absolute_error: 0.0319\n",
      "Epoch 50/100\n",
      "143/143 [==============================] - 7s 51ms/step - loss: 2.6184e-06 - mean_absolute_error: 0.0011 - val_loss: 0.0015 - val_mean_absolute_error: 0.0243\n",
      "Epoch 51/100\n",
      "143/143 [==============================] - 8s 53ms/step - loss: 2.4548e-06 - mean_absolute_error: 0.0011 - val_loss: 0.0065 - val_mean_absolute_error: 0.0511\n",
      "Epoch 52/100\n",
      "143/143 [==============================] - 7s 51ms/step - loss: 2.4173e-06 - mean_absolute_error: 0.0010 - val_loss: 8.3839e-04 - val_mean_absolute_error: 0.0191\n",
      "Epoch 53/100\n",
      "143/143 [==============================] - 8s 53ms/step - loss: 2.6386e-06 - mean_absolute_error: 0.0011 - val_loss: 4.5578e-04 - val_mean_absolute_error: 0.0133\n",
      "Epoch 54/100\n",
      "143/143 [==============================] - 7s 51ms/step - loss: 2.3191e-06 - mean_absolute_error: 0.0010 - val_loss: 6.6381e-04 - val_mean_absolute_error: 0.0154\n",
      "Epoch 55/100\n",
      "143/143 [==============================] - 7s 52ms/step - loss: 2.2656e-06 - mean_absolute_error: 0.0010 - val_loss: 0.0020 - val_mean_absolute_error: 0.0287\n",
      "Epoch 56/100\n",
      "143/143 [==============================] - 7s 52ms/step - loss: 2.3490e-06 - mean_absolute_error: 0.0010 - val_loss: 0.0011 - val_mean_absolute_error: 0.0213\n",
      "Epoch 57/100\n",
      "143/143 [==============================] - 7s 52ms/step - loss: 2.3459e-06 - mean_absolute_error: 0.0011 - val_loss: 0.0026 - val_mean_absolute_error: 0.0329\n",
      "Epoch 58/100\n",
      "143/143 [==============================] - 8s 53ms/step - loss: 2.6431e-06 - mean_absolute_error: 0.0011 - val_loss: 0.0018 - val_mean_absolute_error: 0.0249\n",
      "Epoch 59/100\n",
      "143/143 [==============================] - 7s 51ms/step - loss: 2.4930e-06 - mean_absolute_error: 0.0011 - val_loss: 0.0015 - val_mean_absolute_error: 0.0242\n",
      "Epoch 60/100\n",
      "143/143 [==============================] - 7s 52ms/step - loss: 2.0716e-06 - mean_absolute_error: 9.8539e-04 - val_loss: 0.0019 - val_mean_absolute_error: 0.0285\n",
      "Epoch 61/100\n",
      "143/143 [==============================] - 7s 52ms/step - loss: 2.0581e-06 - mean_absolute_error: 9.7053e-04 - val_loss: 0.0115 - val_mean_absolute_error: 0.0635\n",
      "Epoch 62/100\n",
      "143/143 [==============================] - 7s 52ms/step - loss: 2.2395e-06 - mean_absolute_error: 0.0010 - val_loss: 0.0026 - val_mean_absolute_error: 0.0298\n",
      "Epoch 63/100\n",
      "143/143 [==============================] - 7s 52ms/step - loss: 1.9608e-06 - mean_absolute_error: 9.3206e-04 - val_loss: 0.0017 - val_mean_absolute_error: 0.0247\n",
      "Epoch 64/100\n",
      "143/143 [==============================] - 8s 54ms/step - loss: 2.1315e-06 - mean_absolute_error: 9.8795e-04 - val_loss: 0.0106 - val_mean_absolute_error: 0.0581\n",
      "Epoch 65/100\n",
      "143/143 [==============================] - 8s 53ms/step - loss: 2.2152e-06 - mean_absolute_error: 0.0010 - val_loss: 0.0027 - val_mean_absolute_error: 0.0314\n",
      "Epoch 66/100\n",
      "143/143 [==============================] - 8s 55ms/step - loss: 2.0398e-06 - mean_absolute_error: 0.0010 - val_loss: 0.0109 - val_mean_absolute_error: 0.0600\n",
      "Epoch 67/100\n",
      "143/143 [==============================] - 7s 52ms/step - loss: 2.1370e-06 - mean_absolute_error: 0.0010 - val_loss: 0.0093 - val_mean_absolute_error: 0.0571\n",
      "Epoch 68/100\n",
      "143/143 [==============================] - 8s 53ms/step - loss: 1.9860e-06 - mean_absolute_error: 9.5033e-04 - val_loss: 6.4261e-04 - val_mean_absolute_error: 0.0153\n",
      "Epoch 69/100\n",
      "143/143 [==============================] - 7s 52ms/step - loss: 2.2069e-06 - mean_absolute_error: 0.0010 - val_loss: 9.2044e-04 - val_mean_absolute_error: 0.0212\n",
      "Epoch 70/100\n",
      "143/143 [==============================] - 8s 53ms/step - loss: 1.9919e-06 - mean_absolute_error: 9.2959e-04 - val_loss: 0.0029 - val_mean_absolute_error: 0.0329\n",
      "Epoch 71/100\n",
      "143/143 [==============================] - 7s 52ms/step - loss: 1.9166e-06 - mean_absolute_error: 9.2780e-04 - val_loss: 0.0013 - val_mean_absolute_error: 0.0223\n",
      "Epoch 72/100\n",
      "143/143 [==============================] - 8s 57ms/step - loss: 1.9545e-06 - mean_absolute_error: 9.3775e-04 - val_loss: 8.6690e-04 - val_mean_absolute_error: 0.0181\n",
      "Epoch 73/100\n",
      "143/143 [==============================] - 8s 53ms/step - loss: 2.0010e-06 - mean_absolute_error: 9.7800e-04 - val_loss: 0.0011 - val_mean_absolute_error: 0.0202\n",
      "Epoch 74/100\n",
      "143/143 [==============================] - 7s 49ms/step - loss: 2.2172e-06 - mean_absolute_error: 0.0010 - val_loss: 5.2433e-04 - val_mean_absolute_error: 0.0141\n",
      "Epoch 75/100\n",
      "143/143 [==============================] - 7s 49ms/step - loss: 2.2956e-06 - mean_absolute_error: 0.0010 - val_loss: 0.0022 - val_mean_absolute_error: 0.0284\n",
      "Epoch 76/100\n",
      "143/143 [==============================] - 7s 49ms/step - loss: 1.9050e-06 - mean_absolute_error: 9.1437e-04 - val_loss: 0.0011 - val_mean_absolute_error: 0.0195\n",
      "Epoch 77/100\n",
      "143/143 [==============================] - 8s 55ms/step - loss: 1.8831e-06 - mean_absolute_error: 9.0151e-04 - val_loss: 0.0013 - val_mean_absolute_error: 0.0218\n",
      "Epoch 78/100\n",
      "143/143 [==============================] - 7s 51ms/step - loss: 1.7595e-06 - mean_absolute_error: 9.0227e-04 - val_loss: 7.0884e-04 - val_mean_absolute_error: 0.0166\n",
      "Epoch 79/100\n",
      "143/143 [==============================] - 8s 57ms/step - loss: 2.0151e-06 - mean_absolute_error: 9.4677e-04 - val_loss: 7.8658e-04 - val_mean_absolute_error: 0.0164\n",
      "Epoch 80/100\n",
      "143/143 [==============================] - 7s 51ms/step - loss: 1.7314e-06 - mean_absolute_error: 8.7331e-04 - val_loss: 0.0183 - val_mean_absolute_error: 0.0792\n",
      "Epoch 81/100\n",
      "143/143 [==============================] - 8s 56ms/step - loss: 1.9586e-06 - mean_absolute_error: 9.1776e-04 - val_loss: 0.0028 - val_mean_absolute_error: 0.0334\n",
      "Epoch 82/100\n",
      "143/143 [==============================] - 7s 51ms/step - loss: 1.8797e-06 - mean_absolute_error: 9.3142e-04 - val_loss: 4.0108e-04 - val_mean_absolute_error: 0.0122\n",
      "Epoch 83/100\n",
      "143/143 [==============================] - 8s 57ms/step - loss: 1.8664e-06 - mean_absolute_error: 9.2860e-04 - val_loss: 0.0074 - val_mean_absolute_error: 0.0539\n",
      "Epoch 84/100\n",
      "143/143 [==============================] - 7s 51ms/step - loss: 2.1472e-06 - mean_absolute_error: 9.8636e-04 - val_loss: 0.0012 - val_mean_absolute_error: 0.0210\n",
      "Epoch 85/100\n",
      "143/143 [==============================] - 8s 57ms/step - loss: 2.0635e-06 - mean_absolute_error: 9.7030e-04 - val_loss: 0.0011 - val_mean_absolute_error: 0.0193\n",
      "Epoch 86/100\n",
      "143/143 [==============================] - 7s 51ms/step - loss: 1.9584e-06 - mean_absolute_error: 9.5678e-04 - val_loss: 0.0015 - val_mean_absolute_error: 0.0256\n",
      "Epoch 87/100\n",
      "143/143 [==============================] - 8s 55ms/step - loss: 1.8305e-06 - mean_absolute_error: 9.1953e-04 - val_loss: 0.0019 - val_mean_absolute_error: 0.0269\n",
      "Epoch 88/100\n",
      "143/143 [==============================] - 7s 51ms/step - loss: 1.5910e-06 - mean_absolute_error: 8.4835e-04 - val_loss: 0.0035 - val_mean_absolute_error: 0.0392\n",
      "Epoch 89/100\n",
      "143/143 [==============================] - 8s 56ms/step - loss: 1.6984e-06 - mean_absolute_error: 8.8584e-04 - val_loss: 0.0021 - val_mean_absolute_error: 0.0286\n",
      "Epoch 90/100\n",
      "143/143 [==============================] - 7s 51ms/step - loss: 1.6272e-06 - mean_absolute_error: 8.4368e-04 - val_loss: 0.0024 - val_mean_absolute_error: 0.0320\n",
      "Epoch 91/100\n",
      "143/143 [==============================] - 8s 56ms/step - loss: 1.8910e-06 - mean_absolute_error: 9.3092e-04 - val_loss: 0.0031 - val_mean_absolute_error: 0.0349\n",
      "Epoch 92/100\n",
      "143/143 [==============================] - 7s 52ms/step - loss: 1.7217e-06 - mean_absolute_error: 8.7022e-04 - val_loss: 0.0018 - val_mean_absolute_error: 0.0251\n",
      "Epoch 93/100\n",
      "143/143 [==============================] - 8s 56ms/step - loss: 1.7445e-06 - mean_absolute_error: 8.7135e-04 - val_loss: 0.0011 - val_mean_absolute_error: 0.0212\n",
      "Epoch 94/100\n",
      "143/143 [==============================] - 7s 52ms/step - loss: 1.6463e-06 - mean_absolute_error: 8.4070e-04 - val_loss: 0.0015 - val_mean_absolute_error: 0.0239\n",
      "Epoch 95/100\n",
      "143/143 [==============================] - 8s 57ms/step - loss: 1.9423e-06 - mean_absolute_error: 9.5684e-04 - val_loss: 0.0128 - val_mean_absolute_error: 0.0643\n",
      "Epoch 96/100\n",
      "143/143 [==============================] - 9s 60ms/step - loss: 1.9169e-06 - mean_absolute_error: 9.3184e-04 - val_loss: 0.0030 - val_mean_absolute_error: 0.0329\n",
      "Epoch 97/100\n",
      "143/143 [==============================] - 8s 54ms/step - loss: 1.8796e-06 - mean_absolute_error: 9.3356e-04 - val_loss: 0.0239 - val_mean_absolute_error: 0.0893\n",
      "Epoch 98/100\n",
      "143/143 [==============================] - 8s 56ms/step - loss: 1.6041e-06 - mean_absolute_error: 8.6229e-04 - val_loss: 0.0282 - val_mean_absolute_error: 0.1026\n",
      "Epoch 99/100\n",
      "143/143 [==============================] - 7s 52ms/step - loss: 1.9858e-06 - mean_absolute_error: 9.3190e-04 - val_loss: 0.0062 - val_mean_absolute_error: 0.0478\n",
      "Epoch 100/100\n",
      "143/143 [==============================] - 8s 57ms/step - loss: 1.7648e-06 - mean_absolute_error: 8.8863e-04 - val_loss: 0.0257 - val_mean_absolute_error: 0.0952\n"
     ]
    },
    {
     "data": {
      "text/plain": [
       "<keras.src.callbacks.History at 0x25e344c8c10>"
      ]
     },
     "execution_count": 97,
     "metadata": {},
     "output_type": "execute_result"
    }
   ],
   "source": [
    "# fitting the model by iterating the dataset over 100 times(100 epochs)\n",
    "model.fit(train_seq, train_label, epochs=100,validation_data=(test_seq, test_label), verbose=1)"
   ]
  },
  {
   "cell_type": "code",
   "execution_count": 98,
   "id": "bcd69a78",
   "metadata": {},
   "outputs": [
    {
     "name": "stdout",
     "output_type": "stream",
     "text": [
      "47/47 [==============================] - 2s 25ms/step\n"
     ]
    },
    {
     "data": {
      "text/plain": [
       "array([[0.17771566, 0.1771442 ],\n",
       "       [0.17608556, 0.17552495],\n",
       "       [0.1779471 , 0.17740382],\n",
       "       [0.17837766, 0.17781663],\n",
       "       [0.176808  , 0.17625046]], dtype=float32)"
      ]
     },
     "execution_count": 98,
     "metadata": {},
     "output_type": "execute_result"
    }
   ],
   "source": [
    "# predicting the values after running the model\n",
    "test_predicted = model.predict(test_seq)\n",
    "test_predicted[:5]\n"
   ]
  },
  {
   "cell_type": "code",
   "execution_count": 99,
   "id": "ee3f31cf",
   "metadata": {},
   "outputs": [
    {
     "data": {
      "text/plain": [
       "array([[666.5238 , 662.1462 ],\n",
       "       [660.423  , 656.1064 ],\n",
       "       [667.39   , 663.11456],\n",
       "       [669.0014 , 664.65436],\n",
       "       [663.1268 , 658.8125 ]], dtype=float32)"
      ]
     },
     "execution_count": 99,
     "metadata": {},
     "output_type": "execute_result"
    }
   ],
   "source": [
    "# Inversing normalization/scaling on predicted data \n",
    "test_inverse_predicted = MMS.inverse_transform(test_predicted)\n",
    "test_inverse_predicted[:5]"
   ]
  },
  {
   "cell_type": "code",
   "execution_count": 103,
   "id": "6bb1c7b0",
   "metadata": {},
   "outputs": [],
   "source": [
    "# Select the last 264 rows of test_inverse_predicted\n",
    "test_inverse_predicted_subset = test_inverse_predicted[-264:]\n",
    "\n",
    "# Create a DataFrame with the selected data and columns\n",
    "df_predicted = pd.DataFrame(test_inverse_predicted_subset, columns=['open_predicted', 'close_predicted'], index=df.iloc[-264:].index)\n",
    "\n",
    "# Concatenate the DataFrames\n",
    "df_merge = pd.concat([df.iloc[-264:].copy(), df_predicted], axis=1)"
   ]
  },
  {
   "cell_type": "code",
   "execution_count": 106,
   "id": "5257d928",
   "metadata": {},
   "outputs": [
    {
     "data": {
      "text/html": [
       "<div>\n",
       "<style scoped>\n",
       "    .dataframe tbody tr th:only-of-type {\n",
       "        vertical-align: middle;\n",
       "    }\n",
       "\n",
       "    .dataframe tbody tr th {\n",
       "        vertical-align: top;\n",
       "    }\n",
       "\n",
       "    .dataframe thead th {\n",
       "        text-align: right;\n",
       "    }\n",
       "</style>\n",
       "<table border=\"1\" class=\"dataframe\">\n",
       "  <thead>\n",
       "    <tr style=\"text-align: right;\">\n",
       "      <th></th>\n",
       "      <th>Open</th>\n",
       "      <th>Close</th>\n",
       "      <th>open_predicted</th>\n",
       "      <th>close_predicted</th>\n",
       "    </tr>\n",
       "    <tr>\n",
       "      <th>Date</th>\n",
       "      <th></th>\n",
       "      <th></th>\n",
       "      <th></th>\n",
       "      <th></th>\n",
       "    </tr>\n",
       "  </thead>\n",
       "  <tbody>\n",
       "    <tr>\n",
       "      <th>2020-10-12</th>\n",
       "      <td>3349.939941</td>\n",
       "      <td>3442.929932</td>\n",
       "      <td>2143.728027</td>\n",
       "      <td>1972.333008</td>\n",
       "    </tr>\n",
       "    <tr>\n",
       "      <th>2020-10-13</th>\n",
       "      <td>3467.989990</td>\n",
       "      <td>3443.629883</td>\n",
       "      <td>2251.356445</td>\n",
       "      <td>2068.872559</td>\n",
       "    </tr>\n",
       "    <tr>\n",
       "      <th>2020-10-14</th>\n",
       "      <td>3447.000000</td>\n",
       "      <td>3363.709961</td>\n",
       "      <td>2269.019043</td>\n",
       "      <td>2079.904053</td>\n",
       "    </tr>\n",
       "    <tr>\n",
       "      <th>2020-10-15</th>\n",
       "      <td>3292.010010</td>\n",
       "      <td>3338.649902</td>\n",
       "      <td>2208.200195</td>\n",
       "      <td>2023.659424</td>\n",
       "    </tr>\n",
       "    <tr>\n",
       "      <th>2020-10-16</th>\n",
       "      <td>3363.229980</td>\n",
       "      <td>3272.709961</td>\n",
       "      <td>2143.103516</td>\n",
       "      <td>1967.107178</td>\n",
       "    </tr>\n",
       "  </tbody>\n",
       "</table>\n",
       "</div>"
      ],
      "text/plain": [
       "                   Open        Close  open_predicted  close_predicted\n",
       "Date                                                                 \n",
       "2020-10-12  3349.939941  3442.929932     2143.728027      1972.333008\n",
       "2020-10-13  3467.989990  3443.629883     2251.356445      2068.872559\n",
       "2020-10-14  3447.000000  3363.709961     2269.019043      2079.904053\n",
       "2020-10-15  3292.010010  3338.649902     2208.200195      2023.659424\n",
       "2020-10-16  3363.229980  3272.709961     2143.103516      1967.107178"
      ]
     },
     "execution_count": 106,
     "metadata": {},
     "output_type": "execute_result"
    }
   ],
   "source": [
    "# Inversing normalization/scaling \n",
    "df_merge[['Open','Close']] = MMS.inverse_transform(df_merge[['Open','Close']])\n",
    "df_merge.head()"
   ]
  },
  {
   "cell_type": "code",
   "execution_count": 108,
   "id": "1ba0732b",
   "metadata": {},
   "outputs": [
    {
     "data": {
      "image/png": "[encoded data removed]",
      "text/plain": [
       "<Figure size 720x432 with 1 Axes>"
      ]
     },
     "metadata": {
      "needs_background": "light"
     },
     "output_type": "display_data"
    }
   ],
   "source": [
    "# plotting the actual open and predicted open prices on date index\n",
    "df_merge[['Open','open_predicted']].plot(figsize=(10,6))\n",
    "plt.xticks(rotation=45)\n",
    "plt.xlabel('Date',size=15)\n",
    "plt.ylabel('Stock Price',size=15)\n",
    "plt.title('Actual vs Predicted for open price',size=15)\n",
    "plt.show()"
   ]
  },
  {
   "cell_type": "code",
   "execution_count": 110,
   "id": "37bb1198",
   "metadata": {},
   "outputs": [
    {
     "data": {
      "image/png": "[encoded data removed]",
      "text/plain": [
       "<Figure size 720x432 with 1 Axes>"
      ]
     },
     "metadata": {
      "needs_background": "light"
     },
     "output_type": "display_data"
    }
   ],
   "source": [
    "# plotting the actual close and predicted close prices on date index \n",
    "df_merge[['Close','close_predicted']].plot(figsize=(10,6))\n",
    "plt.xticks(rotation=45)\n",
    "plt.xlabel('Date',size=15)\n",
    "plt.ylabel('Stock Price',size=15)\n",
    "plt.title('Actual vs Predicted for close price',size=15)\n",
    "plt.show()"
   ]
  },
  {
   "cell_type": "code",
   "execution_count": 123,
   "id": "1a8d29a0",
   "metadata": {},
   "outputs": [],
   "source": [
    "df_merge = df_merge.append(pd.DataFrame(columns=df_merge.columns,\n",
    "                                        index=pd.date_range(start=df_merge.index[-1], periods=11, freq='D', closed='right')))\n",
    "\n"
   ]
  },
  {
   "cell_type": "code",
   "execution_count": 126,
   "id": "a813cecf",
   "metadata": {},
   "outputs": [
    {
     "data": {
      "text/html": [
       "<div>\n",
       "<style scoped>\n",
       "    .dataframe tbody tr th:only-of-type {\n",
       "        vertical-align: middle;\n",
       "    }\n",
       "\n",
       "    .dataframe tbody tr th {\n",
       "        vertical-align: top;\n",
       "    }\n",
       "\n",
       "    .dataframe thead th {\n",
       "        text-align: right;\n",
       "    }\n",
       "</style>\n",
       "<table border=\"1\" class=\"dataframe\">\n",
       "  <thead>\n",
       "    <tr style=\"text-align: right;\">\n",
       "      <th></th>\n",
       "      <th>Open</th>\n",
       "      <th>Close</th>\n",
       "      <th>open_predicted</th>\n",
       "      <th>close_predicted</th>\n",
       "    </tr>\n",
       "  </thead>\n",
       "  <tbody>\n",
       "    <tr>\n",
       "      <th>2021-06-09</th>\n",
       "      <td>3272.870117</td>\n",
       "      <td>3281.149902</td>\n",
       "      <td>2103.462646</td>\n",
       "      <td>1934.757446</td>\n",
       "    </tr>\n",
       "    <tr>\n",
       "      <th>2021-06-10</th>\n",
       "      <td>3282.010010</td>\n",
       "      <td>3349.649902</td>\n",
       "      <td>2122.320068</td>\n",
       "      <td>1949.760864</td>\n",
       "    </tr>\n",
       "    <tr>\n",
       "      <th>2021-06-11</th>\n",
       "      <td>3349.649902</td>\n",
       "      <td>3346.830078</td>\n",
       "      <td>2151.769043</td>\n",
       "      <td>1975.349731</td>\n",
       "    </tr>\n",
       "    <tr>\n",
       "      <th>2021-06-14</th>\n",
       "      <td>3346.830078</td>\n",
       "      <td>3383.870117</td>\n",
       "      <td>2162.535400</td>\n",
       "      <td>1983.687378</td>\n",
       "    </tr>\n",
       "    <tr>\n",
       "      <th>2021-06-15</th>\n",
       "      <td>3384.000000</td>\n",
       "      <td>3383.129883</td>\n",
       "      <td>2171.979492</td>\n",
       "      <td>1991.721436</td>\n",
       "    </tr>\n",
       "    <tr>\n",
       "      <th>2021-06-16</th>\n",
       "      <td>3392.000000</td>\n",
       "      <td>3415.250000</td>\n",
       "      <td>2175.793701</td>\n",
       "      <td>1994.874390</td>\n",
       "    </tr>\n",
       "  </tbody>\n",
       "</table>\n",
       "</div>"
      ],
      "text/plain": [
       "                   Open        Close  open_predicted  close_predicted\n",
       "2021-06-09  3272.870117  3281.149902     2103.462646      1934.757446\n",
       "2021-06-10  3282.010010  3349.649902     2122.320068      1949.760864\n",
       "2021-06-11  3349.649902  3346.830078     2151.769043      1975.349731\n",
       "2021-06-14  3346.830078  3383.870117     2162.535400      1983.687378\n",
       "2021-06-15  3384.000000  3383.129883     2171.979492      1991.721436\n",
       "2021-06-16  3392.000000  3415.250000     2175.793701      1994.874390"
      ]
     },
     "execution_count": 126,
     "metadata": {},
     "output_type": "execute_result"
    }
   ],
   "source": [
    "from datetime import date\n",
    "\n",
    "# Convert the string dates to datetime.date objects\n",
    "start_date = date(2021, 6, 9)\n",
    "end_date = date(2021, 6, 16)\n",
    "\n",
    "# Slice the DataFrame using the datetime.date objects\n",
    "df_merge[start_date:end_date]\n"
   ]
  },
  {
   "cell_type": "code",
   "execution_count": 127,
   "id": "5ecb55c4",
   "metadata": {},
   "outputs": [],
   "source": [
    "# creating a DataFrame and filling values of open and close column\n",
    "upcoming_prediction = pd.DataFrame(columns=['Open','Close'],index=df_merge.index)\n",
    "upcoming_prediction.index=pd.to_datetime(upcoming_prediction.index)"
   ]
  },
  {
   "cell_type": "code",
   "execution_count": 128,
   "id": "1d33df7b",
   "metadata": {},
   "outputs": [
    {
     "name": "stdout",
     "output_type": "stream",
     "text": [
      "1/1 [==============================] - 0s 109ms/step\n",
      "1/1 [==============================] - 0s 51ms/step\n",
      "1/1 [==============================] - 0s 60ms/step\n",
      "1/1 [==============================] - 0s 60ms/step\n",
      "1/1 [==============================] - 0s 54ms/step\n",
      "1/1 [==============================] - 0s 51ms/step\n",
      "1/1 [==============================] - 0s 47ms/step\n",
      "1/1 [==============================] - 0s 53ms/step\n",
      "1/1 [==============================] - 0s 52ms/step\n",
      "1/1 [==============================] - 0s 51ms/step\n"
     ]
    }
   ],
   "source": [
    "curr_seq = test_seq[-1:]\n",
    "\n",
    "for i in range(-10,0):\n",
    "  up_pred = model.predict(curr_seq)\n",
    "  upcoming_prediction.iloc[i] = up_pred\n",
    "  curr_seq = np.append(curr_seq[0][1:],up_pred,axis=0)\n",
    "  curr_seq = curr_seq.reshape(test_seq[-1:].shape)"
   ]
  },
  {
   "cell_type": "code",
   "execution_count": 130,
   "id": "1de74862",
   "metadata": {},
   "outputs": [],
   "source": [
    "# inversing Normalization/scaling\n",
    "upcoming_prediction[['open','close']] = MMS.inverse_transform(upcoming_prediction[['Open','Close']])"
   ]
  },
  {
   "cell_type": "code",
   "execution_count": 134,
   "id": "4afa17a6",
   "metadata": {},
   "outputs": [
    {
     "data": {
      "image/png": "[encoded data removed]",
      "text/plain": [
       "<Figure size 720x360 with 1 Axes>"
      ]
     },
     "metadata": {
      "needs_background": "light"
     },
     "output_type": "display_data"
    }
   ],
   "source": [
    "# plotting Upcoming Open price on date index\n",
    "fig,ax=plt.subplots(figsize=(10,5))\n",
    "open_date = date(2021, 4, 1)\n",
    "ax.plot(df_merge.loc[open_date:,'Open'],label='Current Open Price')\n",
    "ax.plot(upcoming_prediction.loc[open_date:,'open'],label='Upcoming Open Price')\n",
    "plt.setp(ax.xaxis.get_majorticklabels(), rotation=45)\n",
    "ax.set_xlabel('Date',size=15)\n",
    "ax.set_ylabel('Stock Price',size=15)\n",
    "ax.set_title('Upcoming Open price prediction',size=15)\n",
    "ax.legend()\n",
    "fig.show()"
   ]
  },
  {
   "cell_type": "code",
   "execution_count": 136,
   "id": "b944c4eb",
   "metadata": {},
   "outputs": [
    {
     "data": {
      "image/png": "[encoded data removed]",
      "text/plain": [
       "<Figure size 720x360 with 1 Axes>"
      ]
     },
     "metadata": {
      "needs_background": "light"
     },
     "output_type": "display_data"
    }
   ],
   "source": [
    "# plotting Upcoming Close price on date index\n",
    "fig,ax=plt.subplots(figsize=(10,5))\n",
    "close_date = date(2021,4,1)\n",
    "ax.plot(df_merge.loc[close_date:,'Close'],label='Current close Price')\n",
    "ax.plot(upcoming_prediction.loc[close_date:,'close'],label='Upcoming close Price')\n",
    "plt.setp(ax.xaxis.get_majorticklabels(), rotation=45)\n",
    "ax.set_xlabel('Date',size=15)\n",
    "ax.set_ylabel('Stock Price',size=15)\n",
    "ax.set_title('Upcoming close price prediction',size=15)\n",
    "ax.legend()\n",
    "fig.show()"
   ]
  },
  {
   "cell_type": "code",
   "execution_count": null,
   "id": "025f868a",
   "metadata": {},
   "outputs": [],
   "source": []
  }
 ],
 "metadata": {
  "kernelspec": {
   "display_name": "Python 3 (ipykernel)",
   "language": "python",
   "name": "python3"
  },
  "language_info": {
   "codemirror_mode": {
    "name": "ipython",
    "version": 3
   },
   "file_extension": ".py",
   "mimetype": "text/x-python",
   "name": "python",
   "nbconvert_exporter": "python",
   "pygments_lexer": "ipython3",
   "version": "3.11.4"
  }
 },
 "nbformat": 4,
 "nbformat_minor": 5
}
